{
 "cells": [
  {
   "cell_type": "markdown",
   "metadata": {},
   "source": [
    "# SỐ TRONG MÁY TÍNH"
   ]
  },
  {
   "cell_type": "markdown",
   "metadata": {},
   "source": [
    "## SỐ NGUYÊN"
   ]
  },
  {
   "cell_type": "markdown",
   "metadata": {},
   "source": [
    "- Số bit lưu trữ n:\n",
    "    + Không dấu: phạm vi lưu trữ là từ $0 \\rightarrow 2^n - 1$ ví dụ 64-bit; $2^{64} - 1 \\approx 18$ tỷ tỷ\n",
    "    + Được lưu trữ liên tục theo **bước nhảy đơn vị 1** trong phạm vi chưa tràn số (tính toán nhiều thì sẽ tràn số nhưng bước nhảy đơn vị vẫn là 1 chứ k nhảy bậy).\n",
    "    + Kiễu dữ liệu cơ bản không đổi trong C++: char 8-bit, short 16-bit, long 32-bit (int thì tùy hệ máy tính).\n",
    "    + Tính toán 64-bit được tích hợp ngay trên chip, tính toán siêu nhanh O(1).\n",
    "    + Thư viện số nguyên lớn BigInt: đảm bảo tính toán đúng --> vấn đề hiệu năng (chậm khi số lớn)."
   ]
  },
  {
   "cell_type": "markdown",
   "metadata": {},
   "source": [
    "Ví dụ tính toán lớn với mã RSA:\n",
    "\n",
    "n = pq với p, q cỡ 256-bit\n",
    "\n",
    "n cỡ 512 khoảng 8 bộ 64-bit. Cần tính toán rất nhiều."
   ]
  },
  {
   "cell_type": "markdown",
   "metadata": {},
   "source": [
    "## SỐ THỰC"
   ]
  },
  {
   "cell_type": "markdown",
   "metadata": {},
   "source": [
    "- Có nhiều mô hình biễu diễn số thực trên máy tính.\n",
    "- Hiện nay thì kiểu biễu diễn IEEE floating-point rất phổ biến.\n",
    "- Có nhiều \"cạm bẫy\" với floating-point.\n",
    "- Các tính toán số thực cần chính xác thì nên sử dụng các thư viện số thực riêng.\n",
    "\n",
    "- Ví dụ float( (4-byte), double (8-byte).\n",
    "    + Float (4-byte) số dương nhỏ nhất 1.17549E-38 đến số dương lớn nhất 3.40282E+38\n",
    "- **LỖ HỎNG NGUYÊN** (nhảy cóc)\n",
    "    + 4-byte thì theo lý thuyết tổ hợp tống số những khả năng của 32-bit là từ 0 đến $2^32 - 1$ tức khoảng 4,3 tỷ trạng thái khác nhau.\n",
    "    + Trong khi đó float biễu diễn rất nhiều trạng thái (khoảng $10^{38}$) => **Vì thế nên các số nguyên mà float k biễu diễn được, nó sẽ dùng số nguyên gần nhất để thay thế**\n",
    "- Càng ra xa thì nó càng nhảy cóc nhiều, tốt nhất nên **chuẩn hóa về khoảng [-1, +1]** để tính toán."
   ]
  },
  {
   "cell_type": "markdown",
   "metadata": {},
   "source": [
    "- Thư viện toán học <math.h> trước đây là phiên bản mềm nhưng sau đó được thêm vào bộ xử lý intel. Tính toán dựa trên số thực nên thư viện này là **SAI**. \n",
    "- Ví dụ như hàm pow(x, y) với x, y là số thực thì phép tính $20^{4 tỷ}$ được thực hiện onchip với độ phức tạp O(1) là cực kì nhanh, nhưng thực tế kết qua cho ra là một xấp xĩ sai.\n",
    "    + pow(x, n) thì nếu x nhỏ và n là số nguyên, nhưng trong hàm pow n được chuyển thành số thực, nêu nó k biễu diễn được n thì n được thay thế bằng số n1, khi đó kêt quả cho ra sẽ sai (lỗi sai này là do lỗ hỏng nguyên trong biễu diễn số thực chứ k phải do tràn số)."
   ]
  }
 ],
 "metadata": {
  "kernelspec": {
   "display_name": "Python 3",
   "language": "python",
   "name": "python3"
  },
  "language_info": {
   "codemirror_mode": {
    "name": "ipython",
    "version": 3
   },
   "file_extension": ".py",
   "mimetype": "text/x-python",
   "name": "python",
   "nbconvert_exporter": "python",
   "pygments_lexer": "ipython3",
   "version": "3.7.4"
  }
 },
 "nbformat": 4,
 "nbformat_minor": 2
}
