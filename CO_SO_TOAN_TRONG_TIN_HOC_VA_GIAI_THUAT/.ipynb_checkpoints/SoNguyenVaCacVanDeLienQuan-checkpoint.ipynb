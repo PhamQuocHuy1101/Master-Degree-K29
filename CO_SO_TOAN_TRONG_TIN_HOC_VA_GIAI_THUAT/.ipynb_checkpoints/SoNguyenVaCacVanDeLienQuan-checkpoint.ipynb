{
 "cells": [
  {
   "cell_type": "markdown",
   "metadata": {},
   "source": [
    "## 1. Kí hiệu và khái niệm"
   ]
  },
  {
   "cell_type": "markdown",
   "metadata": {},
   "source": [
    "Tập số nguyên $Z=\\{0,  ^+_- 1, ^+_- 2, ^+_- 3, ...\\}$"
   ]
  },
  {
   "cell_type": "markdown",
   "metadata": {},
   "source": [
    "Số tự nhiên $N=\\{1, 2, 3, ..\\}$ (trong một số giao trình có bao hàm số 0)"
   ]
  },
  {
   "cell_type": "markdown",
   "metadata": {},
   "source": [
    "Trong lập trình ta thường dùng các số 16-bit, 32-bit, 64-bit. Đố với các số < 64-bit này, các phép tính +, -, *, /, % được thực hiện siêu nhanh (được cài đặt on-chip trên mạch)."
   ]
  },
  {
   "cell_type": "markdown",
   "metadata": {},
   "source": [
    "Phạm vi của số nguyên n-bit là $-2^{n-1}$ đến $2^{n-1} - 1$"
   ]
  },
  {
   "cell_type": "markdown",
   "metadata": {},
   "source": [
    "**Ví dụ 1: ** PHép nhân các số nguyên 1024-bit trong các thư viện BigInt. \n",
    "- Độ dài 1024 gấp 16 lần 64-bit (là độ dài cơ sở của các máy tính hiện nay)\n",
    "- Ta có phép nhân\n",
    "\n",
    " ooo x ooo\n",
    "\n",
    " 9 lần thực hiện phép nhân cơ bản -->nhân 2 số có m chữ số thì cần $m^2$ lần thực hiện phép toán cơ bản"
   ]
  },
  {
   "cell_type": "markdown",
   "metadata": {},
   "source": [
    "- Như vậy:\n",
    "    - Với thuật toán trực quan: $O(n^2)$.\n",
    "    - Với thuật toán nâng cao đã tính ra được với $O(n^1{.86}), O(n^{1.7})$"
   ]
  },
  {
   "cell_type": "markdown",
   "metadata": {},
   "source": [
    "**Ví dụ 2: ** Sô double (64-bit) có dãy trị số $^+_- 2.79.10^{^+_- 308}$ lớn hơn nhiều so với số nguyên, và phép * với các số double ( < 64-bit) này được thực hiện rất nhanh. Vậy ta có thể dùng sô double để tính toán số lớn thay cho số nguyên mà không cần dùng đến thư viện BigInt?\n",
    "\n",
    "- Số floating point (float hay double) có khuyết điểm rất lớn khi tính toán số nguyên, thực chất số floating point chỉ chính xác nhất đối với các số thực có phạm vi -1 đến 1 (đây là đặc tính cấu trúc của số float)."
   ]
  },
  {
   "cell_type": "markdown",
   "metadata": {},
   "source": [
    "**Ví dụ 3: ** Tính lũy thừa nhanh theo modulo.\n",
    "\n",
    "$a^n$ % m với a, m, n thuộc  Int64"
   ]
  },
  {
   "cell_type": "markdown",
   "metadata": {},
   "source": [
    "- Với n khoảng 6 tỷ.\n",
    "- Thuật toán chạy duyệt lần lượt dùng vòng for để tính: mất 6 tỷ phép toán.\n",
    "- Thuật toán lũy thừa nhanh cần $log_2(n) < log_2(2^{33}) = 33$ phép toán."
   ]
  },
  {
   "cell_type": "code",
   "execution_count": null,
   "metadata": {},
   "outputs": [],
   "source": [
    "# Thuat toan tinh luy thua nhanh\n",
    "# a^n\n",
    "def pow(a, n):\n",
    "    if n == 0:\n",
    "        return 1\n",
    "    if n == 1:\n",
    "        return a\n",
    "    if n % 2 == 0: \n",
    "        tmp = pow(a, n / 2)\n",
    "        return tmp * tmp\n",
    "    else :\n",
    "        tmp = pow(a, n // 2)\n",
    "        return tmp * tmp * a\n",
    "\n",
    "pow(3, 123451234567)"
   ]
  },
  {
   "cell_type": "markdown",
   "metadata": {},
   "source": [
    "> **Thuật toán lũy thừa nhanh là phát minh rất then chốt, rất quan trọng cho KHMT.**"
   ]
  },
  {
   "cell_type": "markdown",
   "metadata": {},
   "source": [
    "## 2. Ôn lại vài tính chất quan trọng."
   ]
  },
  {
   "cell_type": "markdown",
   "metadata": {},
   "source": [
    "### a. Khái niệm chia hết."
   ]
  },
  {
   "cell_type": "markdown",
   "metadata": {},
   "source": [
    "$\\forall a, b \\in Z, a|b \\iff \\exists c \\in Z, b = ac $"
   ]
  },
  {
   "cell_type": "markdown",
   "metadata": {},
   "source": [
    "đọc là a chia hết b, a là ước của b, b chia hết cho a, b là bội của a.\n",
    "\n",
    "Ví dụ: 3|6, -2|6, 0|a => a = 0"
   ]
  },
  {
   "cell_type": "markdown",
   "metadata": {},
   "source": [
    "Lưu ý ta có $a|b \\Rightarrow |a| \\leqslant |b|$ ngoại trừ b = 0"
   ]
  },
  {
   "cell_type": "markdown",
   "metadata": {},
   "source": [
    "### b. Phép chia Euclid"
   ]
  },
  {
   "cell_type": "markdown",
   "metadata": {},
   "source": [
    "Với $a, b \\in Z và b \\neq 0$ thì tồn tai **duy nhất** $q, r \\in Z$ sao cho $a = qb + r$ với $0 \\leqslant r \\leqslant |r| $"
   ]
  },
  {
   "cell_type": "markdown",
   "metadata": {},
   "source": [
    "Các định lý sau này đều tuân theo qui ước của q, r này. \n",
    "\n",
    "Nhưng trong một vài ngôn ngữ lập trình phép mode, div không tuân theo định nghĩa của q, r."
   ]
  },
  {
   "cell_type": "code",
   "execution_count": 15,
   "metadata": {},
   "outputs": [
    {
     "name": "stdout",
     "output_type": "stream",
     "text": [
      "4\n",
      "-1\n",
      "but 0 <= r  <= |(-5)|\n"
     ]
    }
   ],
   "source": [
    "print(14 % 5)\n",
    "print(14 % (-5))\n",
    "print(\"but 0 <= r  <= |(-5)|\")"
   ]
  },
  {
   "cell_type": "markdown",
   "metadata": {},
   "source": [
    "### c. Ước số chung, ước chung lớn nhất."
   ]
  },
  {
   "cell_type": "markdown",
   "metadata": {},
   "source": [
    "Định nghĩa số d là ước số chung lơn nhất của a, b:\n",
    "\n",
    "  $$ \\left\\{\\begin{matrix} d|a \\land d|b \\\\d_1|a \\land d_1|b  \\end{matrix}\\right. \\Rightarrow d_1|d$$ \n"
   ]
  },
  {
   "cell_type": "markdown",
   "metadata": {},
   "source": [
    "Như vậy ta tìm được 2 ước chung lớn nhât, một dương một âm. Kí hiệu UCLN(a, b), gdc(a, b) , (a, b) chỉ ước chung lớn nhất dương."
   ]
  },
  {
   "cell_type": "markdown",
   "metadata": {},
   "source": [
    "Đăt biệt với định nghĩa đại số như trên ta có thể xác định (0, 0) = 0"
   ]
  },
  {
   "cell_type": "code",
   "execution_count": 33,
   "metadata": {},
   "outputs": [],
   "source": [
    "# Thuat toan tinh nhanh gcd\n",
    "\n",
    "def gcd(x, y):\n",
    "    a = x\n",
    "    b = y\n",
    "    if a > b:\n",
    "        a, b = b, a\n",
    "    while a != 0:\n",
    "        a, b = b % a, a\n",
    "\n",
    "    return b\n",
    "\n",
    "# gcd(26,339)"
   ]
  },
  {
   "cell_type": "markdown",
   "metadata": {},
   "source": [
    "### d. Nguyên tố cùng nhau."
   ]
  },
  {
   "cell_type": "markdown",
   "metadata": {},
   "source": [
    "a, b được gọi là nguyên tố cùng nhau $\\iff$ gcd(1, b) = 1 $\\iff$ không có ước chung nào khác ngoài $^+_-1$."
   ]
  },
  {
   "cell_type": "markdown",
   "metadata": {},
   "source": [
    "Lưu ý rằng khái niệm này độc lập với số nguyên tố."
   ]
  },
  {
   "cell_type": "markdown",
   "metadata": {},
   "source": [
    "**UCLN và NTCN** rất qua trọng, liên quan đế tính chất số nguyên.\n",
    "\n",
    "1) $$ \\left\\{\\begin{matrix} a|bc \\\\ gcd(a, b) = 1  \\end{matrix}\\right. \\Rightarrow a|c$$\n",
    "\n",
    "2) $$gcd(a, b) = 1 \\iff \\exists x, y \\in Z, ax + by = 1$$\n",
    "\n",
    "Có dạng tổng quát:\n",
    "\n",
    "$$gcd(a, b) = d \\iff \\exists x, y \\in Z, ax + by = d$$"
   ]
  },
  {
   "cell_type": "markdown",
   "metadata": {},
   "source": [
    "- Có một số dạng đặc biệt có giá trị tốt hơn dạng tổng quát, như trong công thức 2)."
   ]
  },
  {
   "cell_type": "code",
   "execution_count": 1,
   "metadata": {},
   "outputs": [],
   "source": [
    "# Thuật toán tìm nhanh x, y Bezunt"
   ]
  },
  {
   "cell_type": "markdown",
   "metadata": {},
   "source": [
    "### e. Số nguyên tố hay phần tử nguyên tố."
   ]
  },
  {
   "cell_type": "markdown",
   "metadata": {},
   "source": [
    "- Định nghĩa phổ thông: số nguyên, > 1, có đúng 2 ước.\n",
    "\n",
    "- Định nghĩa đại số: \n",
    "$$ \\left\\{\\begin{matrix} p \\neq ^+_-1 \\\\ \\forall a, b \\in Z, p|ab \\Rightarrow p|a \\lor a|b \\end{matrix} \\right.$$\n",
    "\n",
    "+ Khi p > 0, ta có định nghĩa tương đương với định nghĩa phổ thông.\n",
    "\n",
    "+ Khi p < 0, -p là số nguyên tố.\n",
    "\n",
    "+ Khi p = 0, đây là số nguyên tố đặc biệt "
   ]
  },
  {
   "cell_type": "markdown",
   "metadata": {},
   "source": [
    "Ví dụ: $0|ab \\Rightarrow ab = 0k \\Leftrightarrow ab = 0  \\Rightarrow 0 | a \\lor 0 | b$"
   ]
  },
  {
   "cell_type": "markdown",
   "metadata": {},
   "source": [
    "**CHÚ Ý: Các bài toán số nguyên thì kích thước bài toán là số bit của dữ liệu nhập vào.**"
   ]
  },
  {
   "cell_type": "markdown",
   "metadata": {},
   "source": [
    "**Ví dụ**: Xác định số nguyên tố.\n",
    "Thuật toán tìm: $ 2 \\longrightarrow \\sqrt(a) $ . Giả sử n là hợp số, n = ab với a < b khi đó $a.a \\leqslant n \\Leftarrow a \\leqslant \\sqrt(n)$. Vậy nếu n là hợp số nó sẽ có ước nhỏ hơn $\\sqrt(n)$"
   ]
  },
  {
   "cell_type": "markdown",
   "metadata": {},
   "source": [
    "**Định lí cơ bản của số học**\n",
    "\n",
    "Mọi số nguyên đều có thể phân tích thành tích các thừa số nguyên tố là phân tích này là duy nhất."
   ]
  },
  {
   "cell_type": "markdown",
   "metadata": {},
   "source": [
    "## 3. Lưu trữ số nguyên, tính toán, thuật toán."
   ]
  },
  {
   "cell_type": "markdown",
   "metadata": {},
   "source": [
    "### 3.1 Hằng đẳng thức liên quan đến mã hóa, lưu trữ số nguyên."
   ]
  },
  {
   "cell_type": "markdown",
   "metadata": {},
   "source": [
    "**$$a^n - b^n = (a-b)(a^{n-1} + a^{n-2}b + a^{n-3}b^2 + ... + ab^{n-2} + b^{n-1})$$**"
   ]
  },
  {
   "cell_type": "markdown",
   "metadata": {},
   "source": [
    "Khi b = 1 ta có (special case):\n",
    "**$$a^n - 1 = (a-1)(a^{n-1} + a^{n-2} + a^{n-3} + ... + a + 1)$$**\n",
    "\n",
    "a. Khi $a \\neq 1$ ta có $$\\frac{a^n - 1}{a-1} = (a^{n-1} + a^{n-2} + a^{n-3} + ... + a + 1)$$\n",
    "\n",
    "Khi |a| < 1, ta có $lim_{n \\to \\infty} \\frac{a^n - 1}{a - 1} = \\frac{-1}{a - 1} = \\frac{1}{1 - a}$"
   ]
  },
  {
   "cell_type": "markdown",
   "metadata": {},
   "source": [
    "Ví dụ: a = 3.145145145145...\n",
    "\n",
    "$a = 3 + \\frac{145}{10^3} + \\frac{145}{10^6} + ... $\n",
    "\n",
    "Xét tổng riêng phần của a, $S_m = 3 + \\frac{145}{10^3} \\sum_{m=1}{(\\frac{1}{10^3})^m}$\n",
    "\n",
    "khi $m \\to \\infty$ thì $S_m = 3 + \\frac{145}{10^3} \\sum_{m=1}{\\frac{(1/10^3)^m - 1}{1/10^3 - 1}} \\Rightarrow S_m = 3 + \\frac{145}{999}$"
   ]
  },
  {
   "cell_type": "markdown",
   "metadata": {},
   "source": [
    "b. a = 2 và b = 1 $$2^n - 1 = 2^{n-1} + 2^{n-2} + 2^{n-3} + ... + 2 + 1 = 11...11_2$$\n",
    "\n",
    "Nhưng ta chỉ có $\\sum_{k = 0}^{\\infty}a^k = \\frac{1}{1-a}$ khi |a| < 1 thôi. Liều lĩnh thế a = 2 vô thì ta có $\\frac{1}{1-a} = -1 \\to \\infty = -1$ ?"
   ]
  },
  {
   "cell_type": "markdown",
   "metadata": {},
   "source": [
    "Ta kiểm tra lại điều phi lí này trong máy tính:\n",
    "\n",
    " 011...111...11\n",
    " \n",
    "+\n",
    "\n",
    "           1\n",
    "           \n",
    "1000...0000...00\n",
    "\n",
    "**Nếu trong máy tính chỉ dùng đến hữu hạn n-bit thì hóa ra số vô cùng khi cộng với 1 sẽ là 0 tức là điều phi lí $\\infty = -1$ là đúng trong máy tính dùng n-bit.**"
   ]
  },
  {
   "cell_type": "markdown",
   "metadata": {},
   "source": [
    "Máy tính mà thanh ghi được thiết kế để lưu n-bit thì không lưu được số $2^n$ (n + 1)bit.\n",
    "\n",
    "+ Số âm nhỏ nhất $-2^{n-1}$\n",
    "+ Số dương lớn nhất $2^{n-1} - 1$ do đã dùng làm số âm nhỏ nhất.\n",
    "\n",
    "Ví dụ: n = 4 bit thì số $1000_2 = (8, -8)$ thì 8 đã không được dùng."
   ]
  },
  {
   "cell_type": "markdown",
   "metadata": {},
   "source": [
    "### 3.2 Các kiểu nguyên trong ngôn ngữ lập trình."
   ]
  },
  {
   "cell_type": "markdown",
   "metadata": {},
   "source": [
    "- 8-bit, 16-bit, 32-bit, 64-bit.\n",
    "- Trong cùng một cấu trúc n-bit, thì số âm tươg ứng với số không dấu.\n",
    "- Phép tính số học có độ phức tạp O(1) tốc độ siêu nhanh.\n",
    "- Số nguyên lớn ( > 64-bit) được tổ chức bởi một bội số cơ sở.\n",
    "\n",
    "Ví dụ: trong C/C++ thì long 32bit (luôn là 32 bit), int tùy theo hệ máy mà là 16, 32, 64 bit.\n",
    "\n",
    "- Vấn đề tràn số nguyên: Số nguyên nhỏ, nhân lên thì bị tràn số nguy hiểm nhất trong quá trình tính toán trung gian trong biểu thức."
   ]
  },
  {
   "cell_type": "markdown",
   "metadata": {},
   "source": [
    "### 3.3 Các bài toán và thuật toán."
   ]
  },
  {
   "cell_type": "markdown",
   "metadata": {},
   "source": [
    "- Kích thước bài toán trong số nguyên là số bit lưu trữ đầu vào.\n",
    "- Hai bài toán cơ bản nhất:\n",
    "    + Kiêm tra số nguyên tố (Primelity). Có thuật toán thời gian đa thức (theo kích thước bài toán).\n",
    "    + Phân rã ra thừa số nguyên tố (Integer factorization). Bài toán bẻ khóa RSA (chưa tìm thấy lời giải hiệu quả).\n",
    "- Hai bài toán đơn giản mà hiệu quả:\n",
    "    + Tìm UCLN bằng phép chia Euclide.\n",
    "    + Thuật toán lũy thừa nhanh nếu không tràn sô thì $a^n$ tính trong $O(log_2n)$.\n",
    "- Các thuật toán nhân số nguyên lớn (đa phần không tận dụng số thực - **bởi vì số thực không có thực trên máy tính**)\n",
    "- Hầu hết các thuật toán nâng cao về số nguyên đều dựa trên các kết quả nghiên cứu toán học chuyên sâu."
   ]
  },
  {
   "cell_type": "markdown",
   "metadata": {},
   "source": [
    "Ví dụ: Bài toán kiểm tra số nguyên tố:\n",
    "\n",
    "a. Thuật toán vét cạn $2 \\to n - 1$ độ phức tạp $O(n) = O(2^m)$ vì ($n \\approx 2^m$).\n",
    "\n",
    "b. Thuật toán cải tiến, vét cạn $2 \\to \\sqrt(n)$ độ phức tạp $O(n) = O(2^{\\frac{m}{2}}) $ tuy cải thiện nhiều về tính toán, nhưng vẫn xếp vào loại hàm mũ. Với m = 512 thì không gian tìm kiếm vào khoảng $2^256$ không khả thi cho máy tính do con người tạo ra.\n",
    "\n",
    "c. Thuật toán AKS-2002 tìm ra với độ phức tạp $O(m^k)$ với k là hằng số, $k \\leqslant 6$"
   ]
  }
 ],
 "metadata": {
  "kernelspec": {
   "display_name": "Python 3",
   "language": "python",
   "name": "python3"
  },
  "language_info": {
   "codemirror_mode": {
    "name": "ipython",
    "version": 3
   },
   "file_extension": ".py",
   "mimetype": "text/x-python",
   "name": "python",
   "nbconvert_exporter": "python",
   "pygments_lexer": "ipython3",
   "version": "3.6.4"
  }
 },
 "nbformat": 4,
 "nbformat_minor": 2
}
