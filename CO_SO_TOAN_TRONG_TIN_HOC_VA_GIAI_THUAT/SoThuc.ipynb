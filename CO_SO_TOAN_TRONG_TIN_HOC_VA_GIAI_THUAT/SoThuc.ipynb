{
 "cells": [
  {
   "cell_type": "markdown",
   "metadata": {},
   "source": [
    "# SỐ THỰC HỌC"
   ]
  },
  {
   "cell_type": "markdown",
   "metadata": {},
   "source": [
    "## Tính trù mật"
   ]
  },
  {
   "cell_type": "markdown",
   "metadata": {},
   "source": [
    "- Tính trù mật của số hữu tỉ trong số thực: Giữa 2 số thực thì luôn tìm được một số hữu tỉ.\n",
    "- Số hữu tỉ có thể dùng để xấp xĩ rất tốt cho số thực.\n",
    "- Định nghĩa:\n",
    "    $(A \\subset B)$ và $\\forall x \\in B, \\forall \\epsilon > 0, \\exists y \\in A $ sao cho $ |x - y| < \\epsilon $"
   ]
  },
  {
   "cell_type": "markdown",
   "metadata": {},
   "source": [
    "- Số thực đại số: nghiệm của đa thức hệ số hữu tỉ (hay số nguyên).\n",
    "    + Như định nghĩa này thì $\\sqrt{2}$ cũng là số thực đại số.\n",
    "- Số thực siêu việt: sô vô tỷ tự nhiên không là nghiệm của bất kì phương trình nào ví dụ e, pi, .. Có một vài xấp xĩ số thực siêu việt bằng số thực đại số như $\\pi \\approx \\frac{22}{7}$\n",
    "- Q là tập con của tập số thực đại số."
   ]
  },
  {
   "cell_type": "markdown",
   "metadata": {},
   "source": [
    "- Số nguyên đại số (thực): nghiệm của đa thức đơn khởi hệ số nguyên (số nguyên đại số thực thì có thêm tính chất của số thực). (đa thực đơn khởi: đa thức có hệ số của bậc cao nhất là 1).\n",
    "    + Như vậy thì $\\sqrt2$ là nghiệm của $x^2 - 2 = 0$ là số nguyên đại số.\n",
    "- Liên hệ với kiến thức phổ thông:\n",
    "    + Hữu tỉ <=> Thập phân vô / hữu hạn tuần hoàn <=> Nhị phân vô / hữu hạn tuần hoàn <=> t phân vô / hữu hạn tuần hoàn.\n",
    "    + Vô tỷ <=> vô hạn không tuần hoàn.\n",
    "- *Lưu ý* : Một số hữu tỉ có thể hữu hạn trong hệ đếm này nhưng vô hạn trong hệ đếm khác. Ví dụ 0.7 trong hệ thập phân là hữu hạn, nhưng trong hệ nhị phân là vô hạn tuần hoàn."
   ]
  },
  {
   "cell_type": "markdown",
   "metadata": {},
   "source": [
    "## Nhóm con cộng."
   ]
  },
  {
   "cell_type": "markdown",
   "metadata": {},
   "source": [
    "- Nhóm con cộng của tập số thực: tập con A của các số thực thỏa mãn:\n",
    "    + Chứ số 0.\n",
    "    + Nếu a,b thuộc A thì a + b và a - b cũng thuộc A (đóng với phép (+)).\n",
    "    + Ví dụ: (Q, +), (Z, +), (Nguyên chẵn, +) là các nhóm con cộng trong R.\n",
    "- Nhóm con cộng đơn sinh là nhóm con cộng và chỉ sinh ra từ một phần tử. Giả sử (A, +) là nhóm con cộng của tập số thực, nhóm này là đơn sinh khi chứa phần tử a sao cho:\n",
    "    + $A = {0, a, -a, 2a, -2a, ...} = aZ = {na | n \\in Z} $"
   ]
  },
  {
   "cell_type": "markdown",
   "metadata": {},
   "source": [
    "#### Định lý xấp xĩ số thực: Mọi nhóm con cộng của tập số thực hoặc là đơn sinh hoặc là trù mật trong R."
   ]
  },
  {
   "cell_type": "markdown",
   "metadata": {},
   "source": [
    "Ví dụ tập sinh bởi m(1/2) + n(1/3)\n",
    "- Nhóm này chứ 0.\n",
    "- Đóng với phép cộng.\n",
    "- Sinh bởi m(1/6).\n",
    "    + m(1/2) + n(1/3) = m(1/6) => $\\{m(1/2) + n(1/3) \\} \\subset \\{ m(1/6) \\}$\n",
    "    + m(1/6) = m(1/2) + (-n)(1/3) => $\\{ m(1/6) \\} \\subset \\{m(1/2) + n(1/3) \\}$\n",
    "- Như vậy nó là nhóm đơn sinh."
   ]
  },
  {
   "cell_type": "markdown",
   "metadata": {},
   "source": [
    "Như vậy mênh đề: Mọi tập sinh ra bởi m số hữu tỉ $\\{r_1, r_2, .., r_m\\}$ thì đơn sinh."
   ]
  },
  {
   "cell_type": "markdown",
   "metadata": {},
   "source": [
    "Ví dụ 2: Số nhị phân $R_2 = \\{ m.2^r | r nguyên và m = 0 hoặc m lẻ \\}\n",
    "\n",
    "- Chứa số 0.\n",
    "- Đóng với phép công:\n",
    "    + $m_12^{r_1} + m_22^{r_2}$\n",
    "    + Xét $r_1 = r_2$ thì có dạng $2^r(m_1 + m_2)$ nếu $(m_1 + m_2)$ lẻ thì thuộc $R_2$ nếu chãn thì ta tách ra $2^(r+1)(m^')$ và tiếp tục cho đến khi lẻ hoặc bằng 1. \n",
    "    + Xét $r_1 != r_2$ thì có thể giả sử $r_1 > r_2$ ta có $2^{r_2}(m_12^{r_1 - r_2}\n",
    "    + m_2)$ thuộc $R_2$ \n",
    "- Là nhóm con cộng.\n",
    "- Ta có thể chứng minh nó không đơn sinh (có thể sinh bởi nhiều phần tử ).\n",
    "- Như vậy nó trù mật trong R, ta cỏ thể dùng nó để xây dựng xấp xỉ số thực.\n",
    "- Lưu ý: \n",
    "    + Chứa hết số nguyên (**không bị lỗ hỏng nguyên**) (lẻ r = 0, 0 m = 0, chẵn chia cho 2).\n",
    "    + Viết số m (trong $m.2^r$) dưới dạng biểu diễn sơ số 2 ta được vô số nhị phân ( có thể có phần lẻ sau dấu '.' nhị phân).\n",
    "    + $R_2$ ít hơn Q rất nhiều (ví dụ 1/3 không thuộc $R_2$)"
   ]
  }
 ],
 "metadata": {
  "kernelspec": {
   "display_name": "Python 3",
   "language": "python",
   "name": "python3"
  },
  "language_info": {
   "codemirror_mode": {
    "name": "ipython",
    "version": 3
   },
   "file_extension": ".py",
   "mimetype": "text/x-python",
   "name": "python",
   "nbconvert_exporter": "python",
   "pygments_lexer": "ipython3",
   "version": "3.7.4"
  }
 },
 "nbformat": 4,
 "nbformat_minor": 2
}
