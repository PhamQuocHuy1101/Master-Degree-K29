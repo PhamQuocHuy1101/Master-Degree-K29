{
 "cells": [
  {
   "cell_type": "markdown",
   "metadata": {},
   "source": [
    "# CƠ SỞ TOÁN TRONG TIN HỌC VÀ GIẢI THUẬT"
   ]
  },
  {
   "cell_type": "markdown",
   "metadata": {},
   "source": [
    "## 1. Số nguyên\n",
    "\n",
    "   ### 1.1 [Số nguyên và các vấn đề liên quan](./SoNguyenVaCacVanDeLienQuan.ipynb)\n",
    "   ### 1.2 [Số trong máy tính](./SoTrongMayTinh.ipynb)\n",
    "   ### 1.3 [Số thực học](./SoThuc.ipynb)"
   ]
  },
  {
   "cell_type": "markdown",
   "metadata": {},
   "source": [
    "    \n",
    "## 2. Vành Z_n\n",
    "## 3. Số thực và các vấn đề tính toán\n",
    "## 4. Vành đa thức\n",
    "## 5. Các cấu trúc đại số và áp dụng trong Khoa học máy tính\n",
    "## 6. Độ phức tạp của thuật toán"
   ]
  }
 ],
 "metadata": {
  "kernelspec": {
   "display_name": "Python 3",
   "language": "python",
   "name": "python3"
  },
  "language_info": {
   "codemirror_mode": {
    "name": "ipython",
    "version": 3
   },
   "file_extension": ".py",
   "mimetype": "text/x-python",
   "name": "python",
   "nbconvert_exporter": "python",
   "pygments_lexer": "ipython3",
   "version": "3.7.4"
  }
 },
 "nbformat": 4,
 "nbformat_minor": 2
}
